{
 "cells": [
  {
   "cell_type": "code",
   "execution_count": 22,
   "id": "27432828-1d91-405e-aeae-cbd91c25400e",
   "metadata": {},
   "outputs": [
    {
     "name": "stdout",
     "output_type": "stream",
     "text": [
      "      price  area  bedrooms  bathrooms  stories mainroad guestroom basement  \\\n",
      "0  13300000  7420         4          2        3      yes        no       no   \n",
      "1  12250000  8960         4          4        4      yes        no       no   \n",
      "2  12250000  9960         3          2        2      yes        no      yes   \n",
      "3  12215000  7500         4          2        2      yes        no      yes   \n",
      "4  11410000  7420         4          1        2      yes       yes      yes   \n",
      "\n",
      "  hotwaterheating airconditioning  parking prefarea furnishingstatus  \n",
      "0              no             yes        2      yes        furnished  \n",
      "1              no             yes        3       no        furnished  \n",
      "2              no              no        2      yes   semi-furnished  \n",
      "3              no             yes        3      yes        furnished  \n",
      "4              no             yes        2       no        furnished  \n",
      "Predicted Price for a 2000 area house with 3 bedrooms and 2 bathrooms: $4675650.79\n"
     ]
    }
   ],
   "source": [
    "# Import necessary libraries\n",
    "import pandas as pd\n",
    "import numpy as np\n",
    "import matplotlib.pyplot as plt\n",
    "import seaborn as sns\n",
    "from sklearn.model_selection import train_test_split\n",
    "from sklearn.linear_model import LinearRegression\n",
    "#from sklearn.metrics import mean_absolute_error, mean_squared_error, r2_score\n",
    "\n",
    "# Load the dataset (replace 'house_prices.csv' with your actual filename)\n",
    "df = pd.read_csv('Housing.csv')\n",
    "\n",
    "# Display the first few rows\n",
    "print(df.head())\n",
    "\n",
    "\n",
    "# Check for missing values and drop them if any\n",
    "df = df.dropna()\n",
    "df.sample(10, random_state=42)\n",
    "# Define features and target variable\n",
    "X = df[['area', 'bedrooms', 'bathrooms']]\n",
    "y = df['price']\n",
    "\n",
    "# Split data into training and testing sets (80% train, 20% test)\n",
    "X_train, X_test, y_train, y_test = train_test_split(X, y, test_size=0.2, random_state=42)\n",
    "\n",
    "# Initialize and train the linear regression model\n",
    "model = LinearRegression()\n",
    "model.fit(X_train, y_train)\n",
    "\n",
    "# Make predictions on test set\n",
    "y_pred = model.predict(X_test)\n",
    "\n",
    "# # Evaluate the model\n",
    "# mae = mean_absolute_error(y_test, y_pred)\n",
    "# mse = mean_squared_error(y_test, y_pred)\n",
    "# rmse = np.sqrt(mse)\n",
    "# r2 = r2_score(y_test, y_pred)\n",
    "\n",
    "# print(f'Mean Absolute Error: {mae}')\n",
    "# print(f'Mean Squared Error: {mse}')\n",
    "# print(f'Root Mean Squared Error: {rmse}')\n",
    "# print(f'R-squared Score: {r2}')\n",
    "\n",
    "# Function to predict house prices for custom inputs\n",
    "def predict_house_price(area, bedrooms, bathrooms):\n",
    "    input_data = pd.DataFrame([[area, bedrooms, bathrooms]], columns=['area', 'bedrooms', 'bathrooms'])\n",
    "    predicted_price = model.predict(input_data)[0]\n",
    "    return predicted_price\n",
    "\n",
    "# # Example Usage: Predict price for a house with given square footage, bedrooms, and bathrooms\n",
    "area = 2000\n",
    "bedrooms = 3\n",
    "bathrooms = 2\n",
    "predicted_price = predict_house_price(area, bedrooms, bathrooms)\n",
    "\n",
    "print(f\"Predicted Price for a {area} area house with {bedrooms} bedrooms and {bathrooms} bathrooms: ${predicted_price:.2f}\")\n"
   ]
  },
  {
   "cell_type": "code",
   "execution_count": null,
   "id": "5effd3ef-b685-47fa-9d7b-e65297fa84ee",
   "metadata": {},
   "outputs": [],
   "source": []
  }
 ],
 "metadata": {
  "kernelspec": {
   "display_name": "Python [conda env:base] *",
   "language": "python",
   "name": "conda-base-py"
  },
  "language_info": {
   "codemirror_mode": {
    "name": "ipython",
    "version": 3
   },
   "file_extension": ".py",
   "mimetype": "text/x-python",
   "name": "python",
   "nbconvert_exporter": "python",
   "pygments_lexer": "ipython3",
   "version": "3.12.4"
  }
 },
 "nbformat": 4,
 "nbformat_minor": 5
}
