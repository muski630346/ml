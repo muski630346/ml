{
 "cells": [
  {
   "cell_type": "code",
   "execution_count": 5,
   "id": "854d798e-59f8-4300-94c1-b882b594b596",
   "metadata": {},
   "outputs": [],
   "source": [
    "import pandas as pd\n",
    "df=pd.read_csv('breast_cancer.csv')\n",
    "X=df.iloc[:, 1:-1].values\n",
    "y=df.iloc[:,-1].values\n"
   ]
  },
  {
   "cell_type": "code",
   "execution_count": 13,
   "id": "731a82ce-fb2c-432e-a1f5-3a696edce0cd",
   "metadata": {},
   "outputs": [],
   "source": [
    "from sklearn.model_selection import train_test_split\n",
    "X_train,X_test,y_train,y_test=train_test_split(X,y,test_size=0.3,random_state=42)\n",
    "from sklearn.linear_model import LogisticRegression\n",
    "classifier=LogisticRegression(random_state=42)\n",
    "classifier.fit(X_train,y_train)\n",
    "y_pred=classifier.predict(X_test)"
   ]
  },
  {
   "cell_type": "code",
   "execution_count": 15,
   "id": "1648c5cb-cd01-43f5-9b00-621706d4a21b",
   "metadata": {},
   "outputs": [
    {
     "name": "stdout",
     "output_type": "stream",
     "text": [
      "[[125   2]\n",
      " [  7  71]]\n"
     ]
    }
   ],
   "source": [
    "from sklearn.metrics import confusion_matrix\n",
    "cm=confusion_matrix(y_test,y_pred)\n",
    "print(cm)\n"
   ]
  },
  {
   "cell_type": "code",
   "execution_count": 17,
   "id": "d726a79f-820b-4ef7-ac1b-4135e90e1b67",
   "metadata": {},
   "outputs": [
    {
     "name": "stdout",
     "output_type": "stream",
     "text": [
      "accuracy:96.64 %\n",
      "standard deviation:1.69 %\n"
     ]
    }
   ],
   "source": [
    "from sklearn.model_selection import cross_val_score\n",
    "accuracy=cross_val_score(estimator=classifier,X=X_train,y=y_train,cv=10)\n",
    "print(\"accuracy:{:.2f} %\".format(accuracy.mean()*100))\n",
    "print(\"standard deviation:{:.2f} %\".format(accuracy.std()*100))"
   ]
  },
  {
   "cell_type": "code",
   "execution_count": null,
   "id": "121731ee-b4ee-44e4-aa20-f05f1b6ae01f",
   "metadata": {},
   "outputs": [],
   "source": []
  }
 ],
 "metadata": {
  "kernelspec": {
   "display_name": "Python [conda env:base] *",
   "language": "python",
   "name": "conda-base-py"
  },
  "language_info": {
   "codemirror_mode": {
    "name": "ipython",
    "version": 3
   },
   "file_extension": ".py",
   "mimetype": "text/x-python",
   "name": "python",
   "nbconvert_exporter": "python",
   "pygments_lexer": "ipython3",
   "version": "3.12.4"
  }
 },
 "nbformat": 4,
 "nbformat_minor": 5
}
